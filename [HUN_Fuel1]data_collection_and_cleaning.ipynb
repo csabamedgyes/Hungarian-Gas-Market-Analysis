{
 "cells": [
  {
   "cell_type": "code",
   "execution_count": 1,
   "id": "f962e373-4363-4720-9d6a-beda00730439",
   "metadata": {},
   "outputs": [],
   "source": [
    "from bs4 import BeautifulSoup\n",
    "import requests\n",
    "from selenium import webdriver\n",
    "from selenium.webdriver.common.keys import Keys\n",
    "import pandas as pd\n",
    "import time\n",
    "from selenium.webdriver.common.by import By\n",
    "from selenium.webdriver.support.ui import WebDriverWait\n",
    "from selenium.webdriver.support import expected_conditions as EC\n",
    "from selenium.common.exceptions import NoSuchElementException\n",
    "from datetime import datetime\n",
    "import calendar\n",
    "import json\n",
    "import csv\n",
    "import numpy as np\n",
    "from selenium import webdriver\n",
    "import time\n",
    "import math\n",
    "import re\n",
    "import datetime\n",
    "import os"
   ]
  },
  {
   "cell_type": "markdown",
   "id": "15a23dc2-a6c2-4c52-b1d0-5b12d5443da5",
   "metadata": {},
   "source": [
    "**Warning!**: In order to run the script at a separate time we need the following data: competitions.csv, external_attributes.csv, gas_stations_with_link.csv and its commented in the code where the modiciations are needed in the following way: '#MODIFICATION NEEDED IF YOU WANT TO GRAB THE DATA AT SEPARATE TIME\n",
    "'"
   ]
  },
  {
   "cell_type": "markdown",
   "id": "d269f706-9981-4cbc-8fa3-06f88e29d915",
   "metadata": {
    "tags": []
   },
   "source": [
    "# Getting local attributes"
   ]
  },
  {
   "cell_type": "markdown",
   "id": "f45a9cb8-6fbf-44ff-b5eb-e076fb9ee5c8",
   "metadata": {},
   "source": [
    "In this section we want to grab all the informaion from their websites. It is important to mention that there will be some cases where the link that we generated does not work, we should handle those cases seperately.  \\\n",
    "The most information that we can grab is:\n",
    "- Address\n",
    "- Telephone number\n",
    "- Prices of different fuel types (it will be convenient to put these in a dictionary and later separate them)\n",
    "- Services\n",
    "- Opening Hours\n",
    "\n",
    "Depening on your internet it will run for about 4-5 hours."
   ]
  },
  {
   "cell_type": "code",
   "execution_count": 2,
   "id": "8e254b49-5fc4-47fd-b3c7-bc92aa62ee27",
   "metadata": {},
   "outputs": [],
   "source": [
    "gas_stations = pd.read_csv('gas_stations_with_link.csv')"
   ]
  },
  {
   "cell_type": "code",
   "execution_count": 3,
   "id": "a14e2a03-a41f-4583-8434-90304bcae80f",
   "metadata": {},
   "outputs": [],
   "source": [
    "from selenium.webdriver.chrome.options import Options\n",
    "import warnings\n",
    "warnings.filterwarnings('ignore', category = DeprecationWarning)\n",
    "\n",
    "chrome_options = Options()\n",
    "chrome_options.add_argument('--headless')\n",
    "\n",
    "def grabbing_local_attributes(link):\n",
    "    '''\n",
    "    This function returns a list of attributes which we are going to seperate afterwards. It is important to mention to try-except cycle seperately since not every link contains all the information.\n",
    "    '''\n",
    "    \n",
    "    driver = webdriver.Chrome('/home/csaba/Downloads/chromedriver', options=chrome_options)\n",
    "    driver.get(link)\n",
    "    time.sleep(4)\n",
    "    \n",
    "    driver.execute_script(\"window.scrollTo(0, document.body.scrollHeight);\")\n",
    "    time.sleep(5)\n",
    "    \n",
    "    local_attributes = []\n",
    "    elements = driver.find_elements(By.CLASS_NAME, \"card-body\")\n",
    "    \n",
    "    try: #address and telephone\n",
    "        local_attributes.append(elements[0].text.replace('\\n', ' ').replace(',', ';'))\n",
    "    except:\n",
    "        local_attributes.append('ERROR')\n",
    "        \n",
    "    try: #gas prices\n",
    "        local_attributes.append(elements[1].text.replace('\\n', ' ').replace(',', ';'))\n",
    "    except:\n",
    "        local_attributes.append('ERROR')\n",
    "\n",
    "    try: #services\n",
    "        local_attributes.append(elements[2].text.replace('\\n', ' ').replace(',', ';'))\n",
    "    except:\n",
    "        local_attributes.append('ERROR')\n",
    "        \n",
    "    try: #opening hours\n",
    "        local_attributes.append(elements[3].text.replace('\\n', ' ').replace(',', ';'))\n",
    "    except:\n",
    "        local_attributes.append('ERROR')\n",
    "    \n",
    "    #print(local_attributes)\n",
    "    return (local_attributes[0], local_attributes[1], local_attributes[2], local_attributes[3])\n",
    "\n",
    "gas_stations['Local Attributes'] = gas_stations['Link'].apply(grabbing_local_attributes)\n",
    "#MODIFICATION NEEDED IF YOU WANT TO GRAB THE DATA AT SEPARATE TIME\n",
    "gas_stations.to_csv('Gas_stations_april_20.csv', index=False,sep = '\\t')"
   ]
  },
  {
   "cell_type": "markdown",
   "id": "7a3092e3-f8d6-403e-971f-8d1a7de08ba6",
   "metadata": {
    "tags": []
   },
   "source": [
    "# Data Formatting and Cleaning"
   ]
  },
  {
   "cell_type": "markdown",
   "id": "d4516e19-3136-4687-be63-9e31674f90b5",
   "metadata": {},
   "source": [
    "### Seperating the local attributes"
   ]
  },
  {
   "cell_type": "code",
   "execution_count": 2,
   "id": "a580faa5-a100-4e25-b35f-3422207daf23",
   "metadata": {
    "tags": []
   },
   "outputs": [],
   "source": [
    "#MODIFICATION NEEDED IF YOU WANT TO GRAB THE DATA AT SEPARATE TIME\n",
    "gas_stations = pd.read_csv('Gas_stations_april_20.csv', sep = '\\t')\n",
    "\n",
    "#convert from string back to tuple\n",
    "gas_stations['Local Attributes'] = gas_stations['Local Attributes'].apply(eval)\n",
    "\n",
    "#remove the 4 tuple element and put them into seperate columns\n",
    "gas_stations[['Address and Telephone', 'Gas Prices', 'Services', 'Opening Hours']] = gas_stations['Local Attributes'].apply(pd.Series)\n",
    "\n",
    "gas_stations['Address from website'] = gas_stations['Address and Telephone'].apply(lambda x: x.split('Küldés telefonra:')[0].split('Útvonal:')[1].lstrip().replace(';', ',').rstrip() if 'Küldés telefonra:' in x else x)\n",
    "gas_stations['Telephone'] = gas_stations['Address and Telephone'].apply(lambda x: re.sub('[^0-9]', '', x.split('Küldés telefonra:')[1]) if 'Küldés telefonra:' in x else x)\n",
    "gas_stations['Gas Prices'] = gas_stations['Gas Prices'].apply(lambda x: x.split('!')[1] if '!' in x else x)\n",
    "\n",
    "#dropping the separated columns\n",
    "gas_stations.drop(['Local Attributes','Address and Telephone'], axis=1, inplace=True)\n",
    "\n",
    "gas_stations = gas_stations.loc[~gas_stations['Opening Hours'].str.contains('ft|Ft')]\n",
    "\n",
    "criteria = (~gas_stations['Gas Prices'].str.contains('Ft|Nem|nem')) & (gas_stations['Gas Prices'] != '')\n",
    "\n",
    "gas_stations.loc[criteria, 'Gas Prices'] = gas_stations.loc[criteria, 'Services']\n",
    "gas_stations.loc[criteria, 'Services'] = gas_stations.loc[criteria, 'Opening Hours']\n",
    "gas_stations.loc[criteria, 'Opening Hours'] = 'ERROR'\n",
    "\n",
    "gas_stations.loc[gas_stations['Services'].str.contains('ft|Ft'), 'Gas Prices'] = gas_stations.loc[gas_stations['Services'].str.contains('ft|Ft'), 'Services']\n",
    "gas_stations.loc[gas_stations['Services'].str.contains('ft|Ft'), 'Services'] = gas_stations.loc[gas_stations['Services'].str.contains('ft|Ft'), 'Opening Hours']\n",
    "gas_stations.loc[gas_stations['Services'].str.contains('ft|Ft'), 'Opening Hours'] = 'ERROR'\n",
    "\n",
    "gas_stations['Gas Prices'] = gas_stations['Gas Prices'].apply(lambda x: x.split('!')[1] if '!' in x else x)\n",
    "gas_stations.loc[~gas_stations['Opening Hours'].str.contains('Hétfő|ERROR'),'Opening Hours'] = 'ERROR'\n",
    "gas_stations = gas_stations.drop('Opening Hours', axis=1) #we should drop it, it contains too many errors-\n",
    "\n",
    "gas_stations['Telephone'] = '+36' + gas_stations['Telephone']\n",
    "gas_stations['Telephone'] = gas_stations['Telephone'].apply(lambda x: x[:11] if len(x) > 13 else x)\n",
    "gas_stations = gas_stations.drop('Telephone', axis=1) #in this case we drop it, we will not need it"
   ]
  },
  {
   "cell_type": "markdown",
   "id": "9f786c44-fadd-469e-87d5-564bce6d79a5",
   "metadata": {},
   "source": [
    "### Cleaning Gas Prices"
   ]
  },
  {
   "cell_type": "code",
   "execution_count": 3,
   "id": "5c8e311b-e01f-452e-a4a6-2dd7cf60fc57",
   "metadata": {
    "tags": []
   },
   "outputs": [],
   "source": [
    "#we need to remove the date + 'óta aktuális' parts. Example: '2000-01-01 óta aktuális' -> replace with ''\n",
    "gas_stations = gas_stations.reset_index(drop = True)\n",
    "\n",
    "original_names = gas_stations.columns\n",
    "\n",
    "dt = datetime.datetime(2000, 1, 1)\n",
    "end = datetime.datetime(2023, 7, 31)\n",
    "step = datetime.timedelta(days=1)\n",
    "\n",
    "dates_to_remove = []\n",
    "\n",
    "while dt < end:\n",
    "    dates_to_remove.append(dt.strftime('%Y-%m-%d') + ' óta aktuális')\n",
    "    dt += step\n",
    "\n",
    "for date in dates_to_remove:\n",
    "    gas_stations['Gas Prices'] = gas_stations['Gas Prices'].str.replace(date, '')\n",
    "        \n",
    "#we can separate with 'Ft /liter' and 'ismert' so the remaining part would only be category + price or category + nem which denotes unknown in hungarian\n",
    "gas_stations['Gas Prices'] = gas_stations['Gas Prices'].str.split('Ft /liter|ismert|Ft /kw')\n",
    "gas_stations['Gas Prices'] = gas_stations['Gas Prices'].apply(lambda x: [i for i in x if i not in ['', ' ']])\n",
    "gas_stations['Gas Prices'] = gas_stations['Gas Prices'].apply(lambda x: [i.lstrip().rstrip() for i in x])\n",
    "\n",
    "#now we have a column containing list elements for each, example:\n",
    "#['Prémium Gázolaj 661.0;-', '95-ös Benzin E10 606.0;-', 'Gázolaj 606.0;-', 'Lpg 353.0;-']. We should separate by whitespaces, then a -1 element is the price, the others are the category\n",
    "def convert_list_to_dict(l):\n",
    "    \n",
    "    output_dict = {}\n",
    "    \n",
    "    if l == []:\n",
    "        return {}\n",
    "    if l == ['ERROR']:\n",
    "        return {}\n",
    "    for item in l:\n",
    "        key, value = item.rsplit(' ', 1)\n",
    "        output_dict[key] = value\n",
    "    return output_dict\n",
    "\n",
    "gas_stations['Gas Prices'] = gas_stations['Gas Prices'].apply(convert_list_to_dict)\n",
    "wanted_columns = ['95-ös Benzin E10', 'Gázolaj', 'Lpg', '100-As Benzin E5', 'Cng', 'Prémium Gázolaj', 'Prémium Benzin E10', '98-As Benzin E5', 'Adblue', 'Type-1 Elektromos Töltő', 'Type-2 Elektromos Töltő', 'Chademo Elektromos Töltő', 'Ccs - Elektromos Töltő']\n",
    "\n",
    "all_cols = set().union(*gas_stations['Gas Prices'])\n",
    "\n",
    "separated_variables = pd.DataFrame([{k: d.get(k) for k in wanted_columns} for d in gas_stations['Gas Prices']])\n",
    "gas_stations.drop(['Gas Prices'], axis=1, inplace=True)\n",
    "\n",
    "gas_stations = pd.concat([gas_stations, separated_variables], axis = 1)\n",
    "\n",
    "gas_stations[wanted_columns] = gas_stations[wanted_columns].replace({'ERROR':np.nan, None:np.nan, 'Nem':np.nan})\n",
    "gas_stations[wanted_columns] = gas_stations[wanted_columns].applymap(lambda x: x.replace(';-', '') if pd.notna(x) else x)\n",
    "gas_stations[wanted_columns] = gas_stations[wanted_columns].astype(float)"
   ]
  },
  {
   "cell_type": "markdown",
   "id": "c856a5ca-4fb5-44b8-a7fc-15d0dcde97f0",
   "metadata": {
    "tags": []
   },
   "source": [
    "### Cleanig Franchise variable"
   ]
  },
  {
   "cell_type": "code",
   "execution_count": 4,
   "id": "a29db918-b721-427d-bbbb-da036e5bb894",
   "metadata": {},
   "outputs": [],
   "source": [
    "gas_stations['Franchise (or private)'] = gas_stations['Franchise (or private)'].replace('Avia', 'AVIA')\n",
    "gas_stations['Franchise (or private)'] = gas_stations['Franchise (or private)'].replace('avia', 'AVIA')\n",
    "gas_stations['Franchise (or private)'] = gas_stations['Franchise (or private)'].replace('lukoil', 'Lukoil')\n",
    "gas_stations['Franchise (or private)'] = gas_stations['Franchise (or private)'].replace('mobil_gaz_kft', 'Mobil Gáz')\n",
    "gas_stations['Franchise (or private)'] = gas_stations['Franchise (or private)'].replace('mobil-petrol', 'Mobil Petrol')\n",
    "gas_stations['Franchise (or private)'] = gas_stations['Franchise (or private)'].replace('mobil_petrol', 'Mobil Petrol')\n",
    "gas_stations['Franchise (or private)'] = gas_stations['Franchise (or private)'].replace('mol', 'MOL')\n",
    "gas_stations['Franchise (or private)'] = gas_stations['Franchise (or private)'].replace('MOL Partner', 'MOL')\n",
    "gas_stations['Franchise (or private)'] = gas_stations['Franchise (or private)'].replace('super_mol_kft_', 'MOL')\n",
    "gas_stations['Franchise (or private)'] = gas_stations['Franchise (or private)'].replace('mol-partner', 'MOL')\n",
    "gas_stations['Franchise (or private)'] = gas_stations['Franchise (or private)'].replace('MOL Partner+', 'MOL')\n",
    "gas_stations['Franchise (or private)'] = gas_stations['Franchise (or private)'].replace('MOL partner +', 'MOL')\n",
    "gas_stations['Franchise (or private)'] = gas_stations['Franchise (or private)'].replace('Mol Postaautó', 'MOL')\n",
    "gas_stations['Franchise (or private)'] = gas_stations['Franchise (or private)'].replace('OIL! Kiskunfélegyháza', 'OIL!')\n",
    "gas_stations['Franchise (or private)'] = gas_stations['Franchise (or private)'].replace('Oil Dunavarsány', 'OIL!')\n",
    "gas_stations['Franchise (or private)'] = gas_stations['Franchise (or private)'].replace('oil', 'OIL!')\n",
    "gas_stations['Franchise (or private)'] = gas_stations['Franchise (or private)'].replace('oil!', 'OIL!')\n",
    "gas_stations['Franchise (or private)'] = gas_stations['Franchise (or private)'].replace('omv', 'OMV')\n",
    "gas_stations['Franchise (or private)'] = gas_stations['Franchise (or private)'].replace('shell', 'Shell')\n",
    "\n",
    "franc = ['AVIA', 'Lukoil', 'Mobil Gáz', 'Mobil Petrol', 'MOL', 'OIL!', 'OMV', 'Shell']\n",
    "gas_stations['Franchise (or private)']= np.where(gas_stations['Franchise (or private)'].isin(franc), gas_stations['Franchise (or private)'], 'Magán')"
   ]
  },
  {
   "cell_type": "markdown",
   "id": "94133aa0-975a-49e8-94b9-1f2437afafd6",
   "metadata": {
    "tags": []
   },
   "source": [
    "# Connecting the DataFrame with competition"
   ]
  },
  {
   "cell_type": "code",
   "execution_count": 5,
   "id": "ac01ea12-b878-4b18-8e2d-65059cd32a4a",
   "metadata": {},
   "outputs": [],
   "source": [
    "competitions = pd.read_csv('competitions.csv', sep = '\\t')"
   ]
  },
  {
   "cell_type": "code",
   "execution_count": 6,
   "id": "8a0fbbe1-a506-4634-b26c-f6ba935b1fa3",
   "metadata": {},
   "outputs": [],
   "source": [
    "gas_stations = pd.merge(gas_stations, competitions, on='City')"
   ]
  },
  {
   "cell_type": "markdown",
   "id": "e378f334-dcb1-4fb8-b4dd-b95e6c1a96c5",
   "metadata": {
    "tags": []
   },
   "source": [
    "# Connecting the DataFrame with external Attributes"
   ]
  },
  {
   "cell_type": "code",
   "execution_count": 7,
   "id": "565343c4-f352-4932-8d29-df400b8fcd9c",
   "metadata": {
    "tags": []
   },
   "outputs": [
    {
     "data": {
      "text/plain": [
       "(Index(['Address with post code (Gas Stations)', 'Address', 'City', 'Post Code',\n",
       "        'Franchise (or private)', 'Highway', 'Link', 'Services',\n",
       "        'Address from website', '95-ös Benzin E10', 'Gázolaj', 'Lpg',\n",
       "        '100-As Benzin E5', 'Cng', 'Prémium Gázolaj', 'Prémium Benzin E10',\n",
       "        '98-As Benzin E5', 'Adblue', 'Type-1 Elektromos Töltő',\n",
       "        'Type-2 Elektromos Töltő', 'Chademo Elektromos Töltő',\n",
       "        'Ccs - Elektromos Töltő', '1km', 'Number of competition 1km', '5km',\n",
       "        'Number of competition 5km', '10km', 'Number of competition 10km',\n",
       "        '20km', 'Number of competition 20km', '30km',\n",
       "        'Number of competition 30km', '40km', 'Number of competition 40km',\n",
       "        'City_for_merge'],\n",
       "       dtype='object'),\n",
       " Index(['City_for_merge', 'lakasallomany', 'Kiskereskedelmiuzletek',\n",
       "        'munkanelkuliek1564', 'jarandosag', 'szjakepezojovegylakos',\n",
       "        'kulfoldreingazok', 'ivoviz', 'foglalkoztatottak1564', 'ezerlakosadozo',\n",
       "        'szemelygepkocsiezerlakos', 'gazdasagszam', 'ingazasikulonbozet',\n",
       "        'szjaalapperfo', 'helybenfoglalkoztatottak'],\n",
       "       dtype='object'))"
      ]
     },
     "execution_count": 7,
     "metadata": {},
     "output_type": "execute_result"
    }
   ],
   "source": [
    "gas_stations['City_for_merge'] = gas_stations['City']\n",
    "gas_stations['City_for_merge'] = gas_stations['City_for_merge'].replace(to_replace='^Budapest.*', value='Budapest', regex=True)\n",
    "external_attributes = pd.read_csv('external_attributes.csv')\n",
    "\n",
    "gas_stations.columns, external_attributes.columns"
   ]
  },
  {
   "cell_type": "code",
   "execution_count": 8,
   "id": "5846a6e7-ec4a-494f-ac1e-821dc4738305",
   "metadata": {
    "tags": []
   },
   "outputs": [],
   "source": [
    "gas_stations_with_external_attributes = pd.merge(gas_stations, external_attributes, on='City_for_merge', how='left')"
   ]
  },
  {
   "cell_type": "code",
   "execution_count": 9,
   "id": "c8a9e62b-2084-4652-9091-ccf7a495d366",
   "metadata": {},
   "outputs": [
    {
     "data": {
      "text/plain": [
       "Index(['Address with post code (Gas Stations)', 'Address', 'City', 'Post Code',\n",
       "       'Franchise (or private)', 'Highway', 'Link', 'Services',\n",
       "       'Address from website', '95-ös Benzin E10', 'Gázolaj', 'Lpg',\n",
       "       '100-As Benzin E5', 'Cng', 'Prémium Gázolaj', 'Prémium Benzin E10',\n",
       "       '98-As Benzin E5', 'Adblue', 'Type-1 Elektromos Töltő',\n",
       "       'Type-2 Elektromos Töltő', 'Chademo Elektromos Töltő',\n",
       "       'Ccs - Elektromos Töltő', '1km', 'Number of competition 1km', '5km',\n",
       "       'Number of competition 5km', '10km', 'Number of competition 10km',\n",
       "       '20km', 'Number of competition 20km', '30km',\n",
       "       'Number of competition 30km', '40km', 'Number of competition 40km',\n",
       "       'City_for_merge', 'Housing', 'Retail stores', 'Unemployed 15-64',\n",
       "       'Allowance', 'Income tax per person', 'Commuters Abroad',\n",
       "       'N drinking water', 'Employed 15-64', 'Tax per 1000',\n",
       "       'N of cars per 1000', 'N of agriculture', 'Commuter Difference',\n",
       "       'Income Tax per Person', 'Locally Employed'],\n",
       "      dtype='object')"
      ]
     },
     "execution_count": 9,
     "metadata": {},
     "output_type": "execute_result"
    }
   ],
   "source": [
    "rename_dict = {'lakasallomany': 'Housing', 'Kiskereskedelmiuzletek': 'Retail stores',\n",
    "       'munkanelkuliek1564':'Unemployed 15-64' , 'jarandosag':'Allowance' , 'szjakepezojovegylakos': 'Income tax per person',\n",
    "       'kulfoldreingazok': 'Commuters Abroad', 'ivoviz': 'N drinking water', 'foglalkoztatottak1564': 'Employed 15-64', \n",
    "        'ezerlakosadozo':'Tax per 1000', 'szemelygepkocsiezerlakos': 'N of cars per 1000', 'gazdasagszam': 'N of agriculture', \n",
    "        'ingazasikulonbozet': 'Commuter Difference','szjaalapperfo': 'Income Tax per Person', 'helybenfoglalkoztatottak': 'Locally Employed'}\n",
    "\n",
    "gas_stations_with_external_attributes = gas_stations_with_external_attributes.rename(columns = rename_dict)\n",
    "gas_stations_with_external_attributes.columns"
   ]
  },
  {
   "cell_type": "markdown",
   "id": "6a7b87d8-7ba8-414a-a187-d79983e1254b",
   "metadata": {
    "tags": []
   },
   "source": [
    "# Exporting the final dataframe"
   ]
  },
  {
   "cell_type": "code",
   "execution_count": 10,
   "id": "f9ac17d6-2824-4c3c-9af5-9fcf6af003ac",
   "metadata": {
    "tags": []
   },
   "outputs": [],
   "source": [
    "#MODIFICATION NEEDED IF YOU WANT TO GRAB THE DATA AT SEPARATE TIME\n",
    "gas_stations_with_external_attributes.to_csv('[HUN_FUEL]04_20.csv', index = False, header = True)"
   ]
  }
 ],
 "metadata": {
  "kernelspec": {
   "display_name": "Python 3 (ipykernel)",
   "language": "python",
   "name": "python3"
  },
  "language_info": {
   "codemirror_mode": {
    "name": "ipython",
    "version": 3
   },
   "file_extension": ".py",
   "mimetype": "text/x-python",
   "name": "python",
   "nbconvert_exporter": "python",
   "pygments_lexer": "ipython3",
   "version": "3.9.7"
  }
 },
 "nbformat": 4,
 "nbformat_minor": 5
}
